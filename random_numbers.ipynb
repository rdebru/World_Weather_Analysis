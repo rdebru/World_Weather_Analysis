{
 "cells": [
  {
   "cell_type": "code",
   "execution_count": 32,
   "id": "58b8f038",
   "metadata": {},
   "outputs": [],
   "source": [
    "# Import the random module.\n",
    "import random\n",
    "# Import timeit.\n",
    "import timeit"
   ]
  },
  {
   "cell_type": "code",
   "execution_count": 4,
   "id": "c33e4e60",
   "metadata": {},
   "outputs": [
    {
     "data": {
      "text/plain": [
       "-28"
      ]
     },
     "execution_count": 4,
     "metadata": {},
     "output_type": "execute_result"
    }
   ],
   "source": [
    "random.randint(-90, 90)"
   ]
  },
  {
   "cell_type": "code",
   "execution_count": 6,
   "id": "c97d82c0",
   "metadata": {},
   "outputs": [
    {
     "data": {
      "text/plain": [
       "0.3665752612423836"
      ]
     },
     "execution_count": 6,
     "metadata": {},
     "output_type": "execute_result"
    }
   ],
   "source": [
    "random.random()"
   ]
  },
  {
   "cell_type": "code",
   "execution_count": 10,
   "id": "514a548e",
   "metadata": {},
   "outputs": [
    {
     "data": {
      "text/plain": [
       "81.38808661514916"
      ]
     },
     "execution_count": 10,
     "metadata": {},
     "output_type": "execute_result"
    }
   ],
   "source": [
    "rand_num = random.randint(-90, 89) + random.random()\n",
    "rand_num"
   ]
  },
  {
   "cell_type": "code",
   "execution_count": 15,
   "id": "14b2e4f7",
   "metadata": {},
   "outputs": [
    {
     "data": {
      "text/plain": [
       "[-40.882305378131434,\n",
       " 12.88977162229717,\n",
       " 50.731629421039315,\n",
       " 49.72090537343033,\n",
       " 58.267870698469444,\n",
       " 13.21844226861101,\n",
       " -2.211479269363536,\n",
       " -16.368124386145674,\n",
       " -23.789421892974808,\n",
       " -35.62854364919564]"
      ]
     },
     "execution_count": 15,
     "metadata": {},
     "output_type": "execute_result"
    }
   ],
   "source": [
    "x = 1\n",
    "\n",
    "latitudes = []\n",
    "while x < 11:\n",
    "    random_lat = random.randint(-90, 89) + random.random()\n",
    "    latitudes.append(random_lat)\n",
    "    x += 1\n",
    "    \n",
    "latitudes"
   ]
  },
  {
   "cell_type": "code",
   "execution_count": 18,
   "id": "295d0105",
   "metadata": {},
   "outputs": [
    {
     "data": {
      "text/plain": [
       "72"
      ]
     },
     "execution_count": 18,
     "metadata": {},
     "output_type": "execute_result"
    }
   ],
   "source": [
    "random.randrange(-90, 90, step=1)"
   ]
  },
  {
   "cell_type": "code",
   "execution_count": 26,
   "id": "3ce19a60",
   "metadata": {},
   "outputs": [
    {
     "data": {
      "text/plain": [
       "27"
      ]
     },
     "execution_count": 26,
     "metadata": {},
     "output_type": "execute_result"
    }
   ],
   "source": [
    "random.randrange(-90, 90, step=3)"
   ]
  },
  {
   "cell_type": "code",
   "execution_count": 27,
   "id": "ccc1c2c6",
   "metadata": {},
   "outputs": [
    {
     "data": {
      "text/plain": [
       "-70.02659236196702"
      ]
     },
     "execution_count": 27,
     "metadata": {},
     "output_type": "execute_result"
    }
   ],
   "source": [
    "random.uniform(-90, 90)"
   ]
  },
  {
   "cell_type": "code",
   "execution_count": 28,
   "id": "54c76666",
   "metadata": {},
   "outputs": [],
   "source": [
    "# Import the NumPy module.\n",
    "import numpy as np"
   ]
  },
  {
   "cell_type": "code",
   "execution_count": 29,
   "id": "1cd10dad",
   "metadata": {},
   "outputs": [
    {
     "data": {
      "text/plain": [
       "27.33504245876688"
      ]
     },
     "execution_count": 29,
     "metadata": {},
     "output_type": "execute_result"
    }
   ],
   "source": [
    "np.random.uniform(-90.000, 90.000)"
   ]
  },
  {
   "cell_type": "code",
   "execution_count": 30,
   "id": "fbb3ce00",
   "metadata": {},
   "outputs": [
    {
     "data": {
      "text/plain": [
       "46.31820378785986"
      ]
     },
     "execution_count": 30,
     "metadata": {},
     "output_type": "execute_result"
    }
   ],
   "source": [
    "np.random.uniform(low=-90, high=90)"
   ]
  },
  {
   "cell_type": "code",
   "execution_count": 31,
   "id": "66c2aaad",
   "metadata": {},
   "outputs": [
    {
     "data": {
      "text/plain": [
       "array([-20.74922023, -46.60062365,  41.46981479,  78.23794511,\n",
       "       -12.76354006,  54.89352479, -50.025237  , -66.36748321,\n",
       "        58.9758178 , -58.56351562, -40.74927103,  88.51334257,\n",
       "       -18.48331232,  32.97951176, -30.90768755, -67.28421686,\n",
       "         6.54913634, -36.1231133 ,  49.90131113,  84.75784958,\n",
       "       -59.87479123, -87.1534743 , -53.71635278,  57.81095723,\n",
       "        -8.61831144, -13.9435249 , -57.3913855 , -73.91489399,\n",
       "         7.11539212,  12.99495299, -60.49743195,  87.39632467,\n",
       "        66.81451648,  61.52310527, -13.75101851, -57.49406659,\n",
       "         7.25792028,  -7.12816077,  40.50720955, -69.76112642,\n",
       "       -41.50984148, -39.07846774,  67.26187444,   6.87982582,\n",
       "        21.54473168, -48.45300008, -75.43682293, -40.02000348,\n",
       "        79.1084939 , -19.18868987])"
      ]
     },
     "execution_count": 31,
     "metadata": {},
     "output_type": "execute_result"
    }
   ],
   "source": [
    "np.random.uniform(-90.000, 90.000, size=50)"
   ]
  },
  {
   "cell_type": "code",
   "execution_count": 33,
   "id": "2bd6e31b",
   "metadata": {},
   "outputs": [
    {
     "name": "stdout",
     "output_type": "stream",
     "text": [
      "38.2 µs ± 2.02 µs per loop (mean ± std. dev. of 7 runs, 10000 loops each)\n"
     ]
    }
   ],
   "source": [
    "%timeit np.random.uniform(-90.000, 90.000, size=1500)"
   ]
  },
  {
   "cell_type": "code",
   "execution_count": 35,
   "id": "4fa27994",
   "metadata": {},
   "outputs": [
    {
     "name": "stdout",
     "output_type": "stream",
     "text": [
      "4.82 ms ± 104 µs per loop (mean ± std. dev. of 7 runs, 100 loops each)\n"
     ]
    }
   ],
   "source": [
    "def latitudes(size):\n",
    "    latitudes = []\n",
    "    x = 0\n",
    "    while x < (size):\n",
    "        random_lat = random.randint(-90, 90) + random.random()\n",
    "        latitudes.append(random_lat)\n",
    "        x += 1\n",
    "    return latitudes\n",
    "# Call the function with 1500.\n",
    "%timeit latitudes(1500)"
   ]
  },
  {
   "cell_type": "code",
   "execution_count": 40,
   "id": "539cc864",
   "metadata": {},
   "outputs": [
    {
     "name": "stdout",
     "output_type": "stream",
     "text": [
      "2 ms ± 438 µs per loop (mean ± std. dev. of 7 runs, 100 loops each)\n"
     ]
    }
   ],
   "source": [
    "#drill\n",
    "def latitudes(size):\n",
    "    latitudes = []\n",
    "\n",
    "    x=0\n",
    "    for x in range(size):\n",
    "        random_lat = random.randint(-90, 90) + random.random()\n",
    "        latitudes.append(random_lat)\n",
    "        x += 1\n",
    "    return latitudes\n",
    "# Call the function with 1500.\n",
    "%timeit latitudes(1500)"
   ]
  },
  {
   "cell_type": "code",
   "execution_count": null,
   "id": "01b5a0ef",
   "metadata": {},
   "outputs": [],
   "source": []
  }
 ],
 "metadata": {
  "kernelspec": {
   "display_name": "PythonData",
   "language": "python",
   "name": "pythondata"
  },
  "language_info": {
   "codemirror_mode": {
    "name": "ipython",
    "version": 3
   },
   "file_extension": ".py",
   "mimetype": "text/x-python",
   "name": "python",
   "nbconvert_exporter": "python",
   "pygments_lexer": "ipython3",
   "version": "3.7.11"
  }
 },
 "nbformat": 4,
 "nbformat_minor": 5
}
